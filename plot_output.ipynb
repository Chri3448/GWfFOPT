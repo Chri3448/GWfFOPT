{
 "cells": [
  {
   "cell_type": "code",
   "execution_count": 1,
   "id": "44a354de",
   "metadata": {},
   "outputs": [],
   "source": [
    "import matplotlib.pyplot as plt\n",
    "import pickle\n",
    "import numpy as np"
   ]
  },
  {
   "cell_type": "code",
   "execution_count": null,
   "id": "62600914",
   "metadata": {},
   "outputs": [],
   "source": [
    "file_to_plot = '2023_02_09 21_37_45.pk'\n",
    "results = pickle.load(open('./cosmotrans_out/' + file_to_plot, 'rb'))\n",
    "params = results[0]\n",
    "thermal_params = results[1]"
   ]
  },
  {
   "cell_type": "code",
   "execution_count": null,
   "id": "cd7977b5",
   "metadata": {},
   "outputs": [],
   "source": [
    "def plot_thermal_params(title, thermal_params):\n",
    "    thermal_params['Tnucs'][thermal_params['Tnucs'] == 0] = np.nan\n",
    "    fig, ax = plt.subplots(nrows = 1, ncols = 3, figsize=(20, 4))\n",
    "    fig.suptitle(title, fontsize = 25)\n",
    "    \n",
    "    pc = ax[0].pcolormesh(params['b'], params['c'], thermal_params['Tnucs'].T)\n",
    "    ax[0].set_ylabel('C values')\n",
    "    ax[0].set_ylim(top=params['c'][-1])\n",
    "    ax[0].plot(params['b'], params['b']**2)\n",
    "    ax[0].set_xlabel('B values')\n",
    "    fig.colorbar(pc, label=r'$T_{nuc}$', ax=ax[0]);\n",
    "\n",
    "    pc = ax[1].pcolormesh(params['b'], params['c'], np.log10(thermal_params['betaHs']).T)\n",
    "    ax[1].set_ylabel('C values')\n",
    "    ax[1].set_ylim(top=params['c'][-1])\n",
    "    ax[1].plot(params['b'], params['b']**2)\n",
    "    ax[1].set_xlabel('B values')\n",
    "    fig.colorbar(pc, label=r'$\\log\\beta_H$', ax=ax[1]);\n",
    "\n",
    "    thermal_params['ksis'][thermal_params['ksis'] == 0 ] = np.nan\n",
    "    pc = ax[2].pcolormesh(params['b'], params['c'], thermal_params['ksis'].T)\n",
    "    ax[2].set_ylabel('C values')\n",
    "    ax[2].set_ylim(top=params['c'][-1])\n",
    "    ax[2].plot(params['b'], params['b']**2)\n",
    "    ax[2].set_xlabel('B values')\n",
    "    fig.colorbar(pc, label=r'$\\xi$', ax=ax[2]);\n",
    "    \n",
    "for Lami in range(np.size(thermal_params, axis=0)):\n",
    "    for c1i in range(np.size(thermal_params, axis=1)):\n",
    "        for fi in range(np.size(thermal_params, axis=2)):\n",
    "            title = f\"Lambda = {params['Lambda'][Lami]}; c1 = {params['c1'][c1i]}; f = {params['f'][fi]}\"\n",
    "            plot_thermal_params(title, thermal_params[Lami, c1i, fi])"
   ]
  },
  {
   "cell_type": "code",
   "execution_count": null,
   "id": "52684933",
   "metadata": {},
   "outputs": [],
   "source": []
  }
 ],
 "metadata": {
  "kernelspec": {
   "display_name": "cosmotrans",
   "language": "python",
   "name": "cosmotrans"
  },
  "language_info": {
   "codemirror_mode": {
    "name": "ipython",
    "version": 3
   },
   "file_extension": ".py",
   "mimetype": "text/x-python",
   "name": "python",
   "nbconvert_exporter": "python",
   "pygments_lexer": "ipython3",
   "version": "3.10.5"
  }
 },
 "nbformat": 4,
 "nbformat_minor": 5
}
